{
 "cells": [
  {
   "cell_type": "code",
   "execution_count": 18,
   "metadata": {},
   "outputs": [
    {
     "data": {
      "text/plain": [
       "Min_Result (generic function with 1 method)"
      ]
     },
     "execution_count": 18,
     "metadata": {},
     "output_type": "execute_result"
    }
   ],
   "source": [
    "function Max_Result(state,action)\n",
    "    result = copy(state)\n",
    "    i = action[1]\n",
    "    j = action[2]\n",
    "    if result[i,j] == \"0\"\n",
    "        result[i,j] = \"X\"\n",
    "    end\n",
    "return result\n",
    "end\n",
    "function Min_Result(state,action)\n",
    "    result = copy(state)\n",
    "    i = action[1]\n",
    "    j = action[2]\n",
    "    if result[i,j] == \"0\"\n",
    "        result[i,j] = \"O\"\n",
    "    end\n",
    "return result\n",
    "end\n",
    "#A = [\"X\" \"O\" \"0\";\"0\" \"0\" \"0\";\"X\" \"0\" \"0\"]"
   ]
  },
  {
   "cell_type": "code",
   "execution_count": 19,
   "metadata": {},
   "outputs": [
    {
     "data": {
      "text/plain": [
       "Actions (generic function with 1 method)"
      ]
     },
     "execution_count": 19,
     "metadata": {},
     "output_type": "execute_result"
    }
   ],
   "source": [
    "function Actions(state)\n",
    "    Actions = []\n",
    "    #print(length(state[[1],:]))\n",
    "    for i in 1:length(state[[1],:])\n",
    "        for j in 1:length(state[[1],:])\n",
    "            if state[i,j] == \"0\"\n",
    "                push!(Actions,[i,j])\n",
    "            end\n",
    "        end\n",
    "    end\n",
    "return Actions\n",
    "end"
   ]
  },
  {
   "cell_type": "code",
   "execution_count": 20,
   "metadata": {},
   "outputs": [
    {
     "data": {
      "text/plain": [
       "is_full (generic function with 1 method)"
      ]
     },
     "execution_count": 20,
     "metadata": {},
     "output_type": "execute_result"
    }
   ],
   "source": [
    "function is_col_win(state,colnum)\n",
    "    r = state[1,colnum]\n",
    "    f = 0 \n",
    "    if r != \"0\"\n",
    "        for t in state[:,[colnum]]\n",
    "            if t != r\n",
    "                f = 1\n",
    "            end\n",
    "        end\n",
    "     if f !=0 \n",
    "            return false\n",
    "        else\n",
    "            return (true,r)\n",
    "    end\n",
    "end\n",
    "    return(false)\n",
    "end\n",
    "function is_row_win(state,row)\n",
    "    r = state[row,1]\n",
    "    f = 0 \n",
    "    if r != \"0\"\n",
    "        for t in state[[row],:]\n",
    "            if t != r\n",
    "                f = 1\n",
    "            end\n",
    "        end\n",
    "     if f == 1 \n",
    "            return false\n",
    "        else\n",
    "            return (true,r)\n",
    "    end\n",
    "end\n",
    "    return false\n",
    "end\n",
    "function is_diagonal_win(state,diagonalnum)\n",
    "    f = 0 \n",
    "    if diagonalnum ==1\n",
    "        r = state[1,1]\n",
    "        for i in 1: size(state)[1]\n",
    "            if state[i,i]!= r \n",
    "                f = 1\n",
    "            end\n",
    "        end\n",
    "     if f !=0 \n",
    "            return false\n",
    "        else\n",
    "            return (true,r)\n",
    "    end\n",
    "        elseif diagonalnum == 2\n",
    "            r = state[size(state)[1],1]\n",
    "            i = size(state)[1]\n",
    "            j = 1\n",
    "            while(i!=0)&(j<=size(state)[1])\n",
    "                if r != state[i,j]\n",
    "                    f = 1\n",
    "                end\n",
    "            i = i-1\n",
    "            j = j +1\n",
    "            end\n",
    "        if f !=0 \n",
    "            return false\n",
    "        else\n",
    "            return (true,r)\n",
    "    end\n",
    "    end\n",
    "        return false\n",
    "    \n",
    "end\n",
    "\n",
    "function is_full(state)\n",
    "    for i in 1:size(state)[1]\n",
    "        for j in 1: size(state)[2]\n",
    "            if state[i,j] == \"0\"\n",
    "                return false\n",
    "            end\n",
    "        end\n",
    "    end\n",
    "    return true \n",
    "end\n"
   ]
  },
  {
   "cell_type": "code",
   "execution_count": 21,
   "metadata": {},
   "outputs": [
    {
     "data": {
      "text/plain": [
       "Terminal_test (generic function with 1 method)"
      ]
     },
     "execution_count": 21,
     "metadata": {},
     "output_type": "execute_result"
    }
   ],
   "source": [
    "function Terminal_test(state)\n",
    "    for i in 1:size(state)[2]\n",
    "        x = is_col_win(state,i)\n",
    "        if x != false\n",
    "            if x[2] == \"X\"\n",
    "            return (true,\"X\")\n",
    "            elseif x[2]== \"O\"\n",
    "                return (true,\"O\")\n",
    "            end\n",
    "        end\n",
    "    end\n",
    " \n",
    " for i in 1:size(state)[1]\n",
    "        x = is_row_win(state,i)\n",
    "        if x != false\n",
    "            if x[2] == \"X\"\n",
    "            return (true,\"X\")\n",
    "            elseif x[2]== \"O\"\n",
    "                return (true,\"O\")\n",
    "            end\n",
    "        end\n",
    "    end\n",
    "for i in 1:2\n",
    "        x = is_diagonal_win(state,i)\n",
    "         if x != false\n",
    "            if x[2] == \"X\"\n",
    "                return (true,\"X\")\n",
    "           elseif x[2]== \"O\"\n",
    "                return (true,\"O\")\n",
    "            end\n",
    "        end\n",
    "end\n",
    "if is_full(state)\n",
    "        return (true,0)\n",
    "    end\n",
    "return false\n",
    "end\n",
    "\n",
    "#A = [\"0\" \"O\" \"X\";\"0\" \"X\" \"0\";\"X\" \"0\" \"0\"]\n",
    "#print(Terminal_test(A))"
   ]
  },
  {
   "cell_type": "code",
   "execution_count": 22,
   "metadata": {},
   "outputs": [
    {
     "data": {
      "text/plain": [
       "Utility (generic function with 1 method)"
      ]
     },
     "execution_count": 22,
     "metadata": {},
     "output_type": "execute_result"
    }
   ],
   "source": [
    "function Utility(state)\n",
    "    x = Terminal_test(state)\n",
    "    if x != false\n",
    "        if x[2] == \"X\"\n",
    "            return 1\n",
    "        elseif x[2] == \"O\"\n",
    "            return (-1)\n",
    "        else \n",
    "            return 0\n",
    "        end\n",
    "    end\n",
    "end"
   ]
  },
  {
   "cell_type": "code",
   "execution_count": 23,
   "metadata": {},
   "outputs": [
    {
     "data": {
      "text/plain": [
       "Min_Value (generic function with 1 method)"
      ]
     },
     "execution_count": 23,
     "metadata": {},
     "output_type": "execute_result"
    }
   ],
   "source": [
    "\n",
    "function Max_Value(state)\n",
    "    #println(state)\n",
    "    if Terminal_test(state)!= false\n",
    "        return (Utility(state))\n",
    "    end\n",
    "    v = -10\n",
    "    \n",
    "    for i in Actions(state)\n",
    "        \n",
    "        x = []\n",
    "        push!(x,v)\n",
    "        push!(x,Min_Value(Max_Result(state,i)))\n",
    "        x = sort(x)\n",
    "        v = x[2]\n",
    "    end\n",
    "    return v\n",
    "end\n",
    "function Min_Value(state)\n",
    "   # println(state)\n",
    "    if Terminal_test(state)!= false\n",
    "        return (Utility(state))\n",
    "    end\n",
    "    v = 10\n",
    "    \n",
    "    for a in Actions(state)\n",
    "            x = []\n",
    "            push!(x,v)\n",
    "            push!(x,Max_Value(Min_Result(state,a)))\n",
    "            x = sort(x)\n",
    "            v = x[1]\n",
    "        end\n",
    "    return v\n",
    "end\n",
    "#A = [\"X\" \"O\" \"O\";\"X\" \"X\" \"O\";\"O\" \"0\" \"0\"]\n",
    "#Max_Value(A)            "
   ]
  },
  {
   "cell_type": "code",
   "execution_count": 25,
   "metadata": {},
   "outputs": [
    {
     "name": "stdout",
     "output_type": "stream",
     "text": [
      "[1, 1]\n",
      "[2, 1]\n",
      "[2, 2]\n",
      "[1, 3]\n"
     ]
    }
   ],
   "source": [
    "#import Infinity\n",
    "function MinMax_Desicion(state)\n",
    "    l = Actions(state)\n",
    "    result = []\n",
    "    for a in l \n",
    "        push!(result,Max_Result(state,a))\n",
    "    end\n",
    "    Result = map(Min_Value,result)\n",
    "    R = argmax(Result)\n",
    "    return l[R]\n",
    "end\n",
    "A = [\"0\" \"0\" \"0\";\"0\" \"0\" \"0\";\"0\" \"0\" \"0\"]\n",
    "println(MinMax_Desicion(A))\n",
    "A = [\"X\" \"O\" \"0\";\"0\" \"0\" \"0\";\"0\" \"0\" \"0\"]\n",
    "println(MinMax_Desicion(A))\n",
    "A = [\"X\" \"O\" \"0\";\"X\" \"0\" \"0\";\"O\" \"0\" \"0\"]\n",
    "println(MinMax_Desicion(A))\n",
    "A = [\"X\" \"O\" \"0\";\"X\" \"0\" \"O\";\"O\" \"0\" \"0\"]\n",
    "println(MinMax_Desicion(A))"
   ]
  }
 ],
 "metadata": {
  "kernelspec": {
   "display_name": "Julia 1.5.4",
   "language": "julia",
   "name": "julia-1.5"
  },
  "language_info": {
   "file_extension": ".jl",
   "mimetype": "application/julia",
   "name": "julia",
   "version": "1.5.4"
  }
 },
 "nbformat": 4,
 "nbformat_minor": 4
}
